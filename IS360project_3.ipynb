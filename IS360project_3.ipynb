{
 "cells": [
  {
   "cell_type": "code",
   "execution_count": 29,
   "metadata": {
    "collapsed": false
   },
   "outputs": [],
   "source": [
    "import pandas as pd\n",
    "import csv\n",
    "import matplotlib.pyplot as plt"
   ]
  },
  {
   "cell_type": "code",
   "execution_count": 30,
   "metadata": {
    "collapsed": false
   },
   "outputs": [],
   "source": [
    "income_df = pd.read_csv('LifeExpectancyIncome.csv')"
   ]
  },
  {
   "cell_type": "code",
   "execution_count": 31,
   "metadata": {
    "collapsed": false
   },
   "outputs": [],
   "source": [
    "income_df = income_df.set_index('Country').transpose()"
   ]
  },
  {
   "cell_type": "code",
   "execution_count": 32,
   "metadata": {
    "collapsed": false
   },
   "outputs": [],
   "source": [
    "income_df['Income / Person'] = income_df['Income / Person'].str.replace(r'[^-+\\d.]', '').astype(int)"
   ]
  },
  {
   "cell_type": "code",
   "execution_count": 33,
   "metadata": {
    "collapsed": false
   },
   "outputs": [],
   "source": [
    "income_df['Life Expectancy'] = income_df['Life Expectancy'].astype(int)"
   ]
  },
  {
   "cell_type": "code",
   "execution_count": 34,
   "metadata": {
    "collapsed": false
   },
   "outputs": [
    {
     "data": {
      "text/html": [
       "<div>\n",
       "<table border=\"1\" class=\"dataframe\">\n",
       "  <thead>\n",
       "    <tr style=\"text-align: right;\">\n",
       "      <th>Country</th>\n",
       "      <th>Income / Person</th>\n",
       "      <th>Life Expectancy</th>\n",
       "    </tr>\n",
       "  </thead>\n",
       "  <tbody>\n",
       "    <tr>\n",
       "      <th>United States</th>\n",
       "      <td>41678</td>\n",
       "      <td>79</td>\n",
       "    </tr>\n",
       "    <tr>\n",
       "      <th>Ukraine</th>\n",
       "      <td>16390</td>\n",
       "      <td>68</td>\n",
       "    </tr>\n",
       "    <tr>\n",
       "      <th>Ethiopia</th>\n",
       "      <td>954</td>\n",
       "      <td>63</td>\n",
       "    </tr>\n",
       "    <tr>\n",
       "      <th>Average</th>\n",
       "      <td>19674</td>\n",
       "      <td>70</td>\n",
       "    </tr>\n",
       "  </tbody>\n",
       "</table>\n",
       "</div>"
      ],
      "text/plain": [
       "Country        Income / Person  Life Expectancy\n",
       "United States            41678               79\n",
       "Ukraine                  16390               68\n",
       "Ethiopia                   954               63\n",
       "Average                  19674               70"
      ]
     },
     "execution_count": 34,
     "metadata": {},
     "output_type": "execute_result"
    }
   ],
   "source": [
    "income_df"
   ]
  },
  {
   "cell_type": "code",
   "execution_count": 35,
   "metadata": {
    "collapsed": false
   },
   "outputs": [
    {
     "data": {
      "text/plain": [
       "<matplotlib.axes._subplots.AxesSubplot at 0x1166d21d0>"
      ]
     },
     "execution_count": 35,
     "metadata": {},
     "output_type": "execute_result"
    }
   ],
   "source": [
    "income_df.plot()"
   ]
  },
  {
   "cell_type": "code",
   "execution_count": 36,
   "metadata": {
    "collapsed": true
   },
   "outputs": [],
   "source": [
    "plt.show()"
   ]
  },
  {
   "cell_type": "code",
   "execution_count": 37,
   "metadata": {
    "collapsed": false
   },
   "outputs": [
    {
     "data": {
      "text/plain": [
       "<matplotlib.axes._subplots.AxesSubplot at 0x1166ebad0>"
      ]
     },
     "execution_count": 37,
     "metadata": {},
     "output_type": "execute_result"
    }
   ],
   "source": [
    "income_df.plot(kind='bar', title='Income vs Life Expectancy')"
   ]
  },
  {
   "cell_type": "code",
   "execution_count": 38,
   "metadata": {
    "collapsed": false
   },
   "outputs": [],
   "source": [
    "plt.show() #bar graph"
   ]
  },
  {
   "cell_type": "code",
   "execution_count": 39,
   "metadata": {
    "collapsed": false
   },
   "outputs": [
    {
     "data": {
      "text/plain": [
       "<matplotlib.axes._subplots.AxesSubplot at 0x116890e90>"
      ]
     },
     "execution_count": 39,
     "metadata": {},
     "output_type": "execute_result"
    }
   ],
   "source": [
    "income_df.plot(x = 'Income / Person',y='Life Expectancy', kind='scatter')"
   ]
  },
  {
   "cell_type": "code",
   "execution_count": 40,
   "metadata": {
    "collapsed": true
   },
   "outputs": [],
   "source": [
    "plt.show() #scatter chart"
   ]
  },
  {
   "cell_type": "code",
   "execution_count": 41,
   "metadata": {
    "collapsed": false
   },
   "outputs": [
    {
     "data": {
      "text/plain": [
       "<matplotlib.figure.Figure at 0x1192d2850>"
      ]
     },
     "execution_count": 41,
     "metadata": {},
     "output_type": "execute_result"
    }
   ],
   "source": [
    "plt.figure(figsize=(9, 6))"
   ]
  },
  {
   "cell_type": "code",
   "execution_count": 42,
   "metadata": {
    "collapsed": false
   },
   "outputs": [],
   "source": [
    "income_df = income_df.drop('Ethiopia')"
   ]
  },
  {
   "cell_type": "code",
   "execution_count": 43,
   "metadata": {
    "collapsed": false
   },
   "outputs": [],
   "source": [
    "protein_df = pd.read_csv('HighProteinFoods.csv')"
   ]
  },
  {
   "cell_type": "code",
   "execution_count": 54,
   "metadata": {
    "collapsed": false
   },
   "outputs": [
    {
     "data": {
      "text/plain": [
       "0   Food                     Almond Nuts\n",
       "    Protein                        21.1g\n",
       "    Carbs                           6.9g\n",
       "    Fat                            55.8g\n",
       "    Calories                    614 kcal\n",
       "1   Food                       Anchovies\n",
       "    Protein                        14.5g\n",
       "    Carbs                           0.1g\n",
       "    Fat                             2.8g\n",
       "    Calories                     85 kcal\n",
       "2   Food                       Asparagus\n",
       "    Protein                         2.9g\n",
       "    Carbs                           2.0g\n",
       "    Fat                             0.6g\n",
       "    Calories                     25 kcal\n",
       "3   Food                         Avocado\n",
       "    Protein                         1.9g\n",
       "    Carbs                           1.9g\n",
       "    Fat                            19.5g\n",
       "    Calories                    195 kcal\n",
       "4   Food                           Bacon\n",
       "    Protein                        15.9g\n",
       "    Fat                            19.8g\n",
       "    Calories                    245 kcal\n",
       "5   Food                     Baked Beans\n",
       "    Protein                         9.5g\n",
       "    Carbs                          22.1g\n",
       "    Fat                             0.4g\n",
       "    Calories                    130 kcal\n",
       "6   Food                         Bananas\n",
       "                          ...           \n",
       "47  Calories                    105 kcal\n",
       "48  Food                            Tofu\n",
       "    Protein                        12.1g\n",
       "    Carbs                           0.6g\n",
       "    Fat                             6.0g\n",
       "    Calories                    105 kcal\n",
       "49  Food               Tuna Fish (Steak)\n",
       "    Protein                        25.6g\n",
       "    Carbs                             0g\n",
       "    Fat                             0.5g\n",
       "    Calories                    110 kcal\n",
       "50  Food              Tuna Fish (Tinned)\n",
       "    Protein                        26.3g\n",
       "    Carbs                           0.0g\n",
       "    Fat                            10.7g\n",
       "    Calories                    202 kcal\n",
       "51  Food        Turkey Breast (Skinless)\n",
       "    Protein                        22.3g\n",
       "    Carbs                             0g\n",
       "    Fat                             1.2g\n",
       "    Calories                    100 kcal\n",
       "52  Food             Venison (Deer meat)\n",
       "    Protein                        30.21\n",
       "    Fat                             3.19\n",
       "    Calories                    158 kcal\n",
       "53  Food                          Yogurt\n",
       "    Protein                         4.5g\n",
       "    Carbs                           6.6g\n",
       "    Fat                            11.0g\n",
       "    Calories                    145 kcal\n",
       "dtype: object"
      ]
     },
     "execution_count": 54,
     "metadata": {},
     "output_type": "execute_result"
    }
   ],
   "source": [
    "protein_df.stack()"
   ]
  },
  {
   "cell_type": "code",
   "execution_count": null,
   "metadata": {
    "collapsed": true
   },
   "outputs": [],
   "source": []
  }
 ],
 "metadata": {
  "kernelspec": {
   "display_name": "Python 2",
   "language": "python",
   "name": "python2"
  },
  "language_info": {
   "codemirror_mode": {
    "name": "ipython",
    "version": 2
   },
   "file_extension": ".py",
   "mimetype": "text/x-python",
   "name": "python",
   "nbconvert_exporter": "python",
   "pygments_lexer": "ipython2",
   "version": "2.7.10"
  }
 },
 "nbformat": 4,
 "nbformat_minor": 0
}
