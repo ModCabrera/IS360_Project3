{
 "cells": [
  {
   "cell_type": "markdown",
   "metadata": {},
   "source": [
    "# IS-360 Project 3"
   ]
  },
  {
   "cell_type": "code",
   "execution_count": 29,
   "metadata": {
    "collapsed": false
   },
   "outputs": [],
   "source": [
    "import pandas as pd\n",
    "import csv\n",
    "import matplotlib.pyplot as plt"
   ]
  },
  {
   "cell_type": "markdown",
   "metadata": {},
   "source": [
    "### Reading CSV File into Pandas DataFrame"
   ]
  },
  {
   "cell_type": "markdown",
   "metadata": {},
   "source": [
    "READING CSV: I want to read the csv using the Pandas '.read_csv' which returns a DataFrame Object."
   ]
  },
  {
   "cell_type": "code",
   "execution_count": 42,
   "metadata": {
    "collapsed": false
   },
   "outputs": [],
   "source": [
    "income_df = pd.read_csv('LifeExpectancyIncome.csv')"
   ]
  },
  {
   "cell_type": "code",
   "execution_count": 43,
   "metadata": {
    "collapsed": false
   },
   "outputs": [
    {
     "data": {
      "text/html": [
       "<div>\n",
       "<table border=\"1\" class=\"dataframe\">\n",
       "  <thead>\n",
       "    <tr style=\"text-align: right;\">\n",
       "      <th></th>\n",
       "      <th>Country</th>\n",
       "      <th>United States</th>\n",
       "      <th>Ukraine</th>\n",
       "      <th>Ethiopia</th>\n",
       "      <th>Average</th>\n",
       "    </tr>\n",
       "  </thead>\n",
       "  <tbody>\n",
       "    <tr>\n",
       "      <th>0</th>\n",
       "      <td>Income / Person</td>\n",
       "      <td>$41,678</td>\n",
       "      <td>$16,390</td>\n",
       "      <td>$954</td>\n",
       "      <td>$19,674</td>\n",
       "    </tr>\n",
       "    <tr>\n",
       "      <th>1</th>\n",
       "      <td>Life Expectancy</td>\n",
       "      <td>79</td>\n",
       "      <td>68</td>\n",
       "      <td>63</td>\n",
       "      <td>70</td>\n",
       "    </tr>\n",
       "  </tbody>\n",
       "</table>\n",
       "</div>"
      ],
      "text/plain": [
       "           Country United States   Ukraine Ethiopia   Average\n",
       "0  Income / Person      $41,678   $16,390     $954   $19,674 \n",
       "1  Life Expectancy            79        68       63        70"
      ]
     },
     "execution_count": 43,
     "metadata": {},
     "output_type": "execute_result"
    }
   ],
   "source": [
    "income_df"
   ]
  },
  {
   "cell_type": "markdown",
   "metadata": {},
   "source": [
    "I have a few things to do, first i want to flip the positions of columns with the of row index variables."
   ]
  },
  {
   "cell_type": "markdown",
   "metadata": {},
   "source": [
    "I've chosen to use the transpose function, which causes the columns and index to change places."
   ]
  },
  {
   "cell_type": "code",
   "execution_count": 44,
   "metadata": {
    "collapsed": false
   },
   "outputs": [],
   "source": [
    "income_df = income_df.set_index('Country').transpose()"
   ]
  },
  {
   "cell_type": "code",
   "execution_count": 45,
   "metadata": {
    "collapsed": false
   },
   "outputs": [
    {
     "data": {
      "text/html": [
       "<div>\n",
       "<table border=\"1\" class=\"dataframe\">\n",
       "  <thead>\n",
       "    <tr style=\"text-align: right;\">\n",
       "      <th>Country</th>\n",
       "      <th>Income / Person</th>\n",
       "      <th>Life Expectancy</th>\n",
       "    </tr>\n",
       "  </thead>\n",
       "  <tbody>\n",
       "    <tr>\n",
       "      <th>United States</th>\n",
       "      <td>$41,678</td>\n",
       "      <td>79</td>\n",
       "    </tr>\n",
       "    <tr>\n",
       "      <th>Ukraine</th>\n",
       "      <td>$16,390</td>\n",
       "      <td>68</td>\n",
       "    </tr>\n",
       "    <tr>\n",
       "      <th>Ethiopia</th>\n",
       "      <td>$954</td>\n",
       "      <td>63</td>\n",
       "    </tr>\n",
       "    <tr>\n",
       "      <th>Average</th>\n",
       "      <td>$19,674</td>\n",
       "      <td>70</td>\n",
       "    </tr>\n",
       "  </tbody>\n",
       "</table>\n",
       "</div>"
      ],
      "text/plain": [
       "Country       Income / Person Life Expectancy\n",
       "United States        $41,678               79\n",
       "Ukraine              $16,390               68\n",
       "Ethiopia                $954               63\n",
       "Average              $19,674               70"
      ]
     },
     "execution_count": 45,
     "metadata": {},
     "output_type": "execute_result"
    }
   ],
   "source": [
    "income_df"
   ]
  },
  {
   "cell_type": "markdown",
   "metadata": {},
   "source": [
    "* Issues with the way the data is stored in the DataFrame object, first of all since the data includes signs such as commas, and currency signs, its presented as a string format."
   ]
  },
  {
   "cell_type": "markdown",
   "metadata": {},
   "source": [
    "<i> I would like to remove any characters that do not represent number values and return these as intergers. </i>"
   ]
  },
  {
   "cell_type": "code",
   "execution_count": 46,
   "metadata": {
    "collapsed": false
   },
   "outputs": [],
   "source": [
    "income_df['Income / Person'] = income_df['Income / Person'].str.replace(r'[^-+\\d.]', '').astype(int)"
   ]
  },
  {
   "cell_type": "markdown",
   "metadata": {},
   "source": [
    "* The line above returns the desired result removing, the varchars from the cells and returning their values as intergers that can be computed and analayzed further."
   ]
  },
  {
   "cell_type": "code",
   "execution_count": 47,
   "metadata": {
    "collapsed": false
   },
   "outputs": [],
   "source": [
    "income_df['Life Expectancy'] = income_df['Life Expectancy'].astype(int)"
   ]
  },
  {
   "cell_type": "markdown",
   "metadata": {},
   "source": [
    "* The line above repeats the same process for the 'Life Expectancy' Column and returns their values as intergers. The only diference is there is no replacement of varchars since the cells do not contain other than numberical characters."
   ]
  },
  {
   "cell_type": "code",
   "execution_count": 53,
   "metadata": {
    "collapsed": false
   },
   "outputs": [
    {
     "data": {
      "text/html": [
       "<div>\n",
       "<table border=\"1\" class=\"dataframe\">\n",
       "  <thead>\n",
       "    <tr style=\"text-align: right;\">\n",
       "      <th>Country</th>\n",
       "      <th>Income / Person</th>\n",
       "      <th>Life Expectancy</th>\n",
       "    </tr>\n",
       "  </thead>\n",
       "  <tbody>\n",
       "    <tr>\n",
       "      <th>United States</th>\n",
       "      <td>41678</td>\n",
       "      <td>79</td>\n",
       "    </tr>\n",
       "    <tr>\n",
       "      <th>Ukraine</th>\n",
       "      <td>16390</td>\n",
       "      <td>68</td>\n",
       "    </tr>\n",
       "    <tr>\n",
       "      <th>Ethiopia</th>\n",
       "      <td>954</td>\n",
       "      <td>63</td>\n",
       "    </tr>\n",
       "    <tr>\n",
       "      <th>Average</th>\n",
       "      <td>19674</td>\n",
       "      <td>70</td>\n",
       "    </tr>\n",
       "  </tbody>\n",
       "</table>\n",
       "</div>"
      ],
      "text/plain": [
       "Country        Income / Person  Life Expectancy\n",
       "United States            41678               79\n",
       "Ukraine                  16390               68\n",
       "Ethiopia                   954               63\n",
       "Average                  19674               70"
      ]
     },
     "execution_count": 53,
     "metadata": {},
     "output_type": "execute_result"
    }
   ],
   "source": [
    "income_df"
   ]
  },
  {
   "cell_type": "markdown",
   "metadata": {},
   "source": [
    "* What is returned after cells are cleaned and returned as computable data, is a clean DataFrame object."
   ]
  },
  {
   "cell_type": "code",
   "execution_count": 54,
   "metadata": {
    "collapsed": false
   },
   "outputs": [
    {
     "data": {
      "text/plain": [
       "<matplotlib.axes._subplots.AxesSubplot at 0x10a15df50>"
      ]
     },
     "execution_count": 54,
     "metadata": {},
     "output_type": "execute_result"
    }
   ],
   "source": [
    "income_df.plot(kind='area')"
   ]
  },
  {
   "cell_type": "code",
   "execution_count": 55,
   "metadata": {
    "collapsed": true
   },
   "outputs": [],
   "source": [
    "plt.show()"
   ]
  },
  {
   "cell_type": "markdown",
   "metadata": {},
   "source": [
    "<img src=\"incomearea1.png\" alt=\"Income Area Graph\">"
   ]
  },
  {
   "cell_type": "markdown",
   "metadata": {},
   "source": [
    "* This AREA graph doesnt do a great job at displaying the diference or similarities between Income VS Life Expectancy. This could be due to the colors or the choice of graph. "
   ]
  },
  {
   "cell_type": "code",
   "execution_count": 18,
   "metadata": {
    "collapsed": false
   },
   "outputs": [
    {
     "data": {
      "text/plain": [
       "<matplotlib.axes._subplots.AxesSubplot at 0x10b3583d0>"
      ]
     },
     "execution_count": 18,
     "metadata": {},
     "output_type": "execute_result"
    }
   ],
   "source": [
    "income_df.plot(kind='bar', title='Income vs Life Expectancy')"
   ]
  },
  {
   "cell_type": "code",
   "execution_count": 19,
   "metadata": {
    "collapsed": false
   },
   "outputs": [],
   "source": [
    "plt.show() #bar graph"
   ]
  },
  {
   "cell_type": "markdown",
   "metadata": {},
   "source": [
    "<img src=\"incomebar1.png\" alt=\"Income Area Graph\">"
   ]
  },
  {
   "cell_type": "markdown",
   "metadata": {},
   "source": [
    "* This bar chart does a good job of noting the diferences between income in measured countries, but does do well for representing their relationship to the Life Expectancy, alot of these values are not even visible."
   ]
  },
  {
   "cell_type": "code",
   "execution_count": null,
   "metadata": {
    "collapsed": false
   },
   "outputs": [],
   "source": [
    "income_df.plot(x = 'Income / Person',y='Life Expectancy', kind='scatter')"
   ]
  },
  {
   "cell_type": "code",
   "execution_count": null,
   "metadata": {
    "collapsed": true
   },
   "outputs": [],
   "source": [
    "plt.show() #scatter chart"
   ]
  },
  {
   "cell_type": "markdown",
   "metadata": {},
   "source": [
    "<img src=\"income_scatter.png\" alt=\"Income Scatter Graph\">"
   ]
  },
  {
   "cell_type": "markdown",
   "metadata": {},
   "source": [
    "* The Scatter plot above, does a great job of representing the diferences between the ages and Life Expectancy notably the diference between Incomes over 40k, which in relation to the diference between 20k and below 1k, are very simliar."
   ]
  },
  {
   "cell_type": "code",
   "execution_count": 61,
   "metadata": {
    "collapsed": false
   },
   "outputs": [
    {
     "data": {
      "text/plain": [
       "<matplotlib.figure.Figure at 0x11a447590>"
      ]
     },
     "execution_count": 61,
     "metadata": {},
     "output_type": "execute_result"
    }
   ],
   "source": [
    "plt.figure(figsize=(9, 6))"
   ]
  },
  {
   "cell_type": "code",
   "execution_count": 62,
   "metadata": {
    "collapsed": false
   },
   "outputs": [],
   "source": [
    "income_df = income_df.drop('Ethiopia')"
   ]
  },
  {
   "cell_type": "code",
   "execution_count": 68,
   "metadata": {
    "collapsed": false
   },
   "outputs": [
    {
     "data": {
      "text/plain": [
       "<matplotlib.axes._subplots.AxesSubplot at 0x112539510>"
      ]
     },
     "execution_count": 68,
     "metadata": {},
     "output_type": "execute_result"
    }
   ],
   "source": [
    "income_df.plot(x='Income / Person', y='Life Expectancy', kind='bar', stacked=True)"
   ]
  },
  {
   "cell_type": "code",
   "execution_count": null,
   "metadata": {
    "collapsed": true
   },
   "outputs": [],
   "source": [
    "plt.show()"
   ]
  },
  {
   "cell_type": "markdown",
   "metadata": {},
   "source": [
    "<img src=\"bar2income.png\" alt=\"Income Bar Graph\">"
   ]
  },
  {
   "cell_type": "markdown",
   "metadata": {},
   "source": [
    "* I think removing Ethiopia from the Data was crucial to understanding why the Income / Person has little effect, given the diference in Life Expectancy ranges between 40k, 19k, and 16k earners."
   ]
  },
  {
   "cell_type": "code",
   "execution_count": 24,
   "metadata": {
    "collapsed": false
   },
   "outputs": [],
   "source": [
    "protein_df = pd.read_csv('HighProteinFoods.csv')"
   ]
  },
  {
   "cell_type": "code",
   "execution_count": 25,
   "metadata": {
    "collapsed": false
   },
   "outputs": [
    {
     "data": {
      "text/plain": [
       "0   Food                     Almond Nuts\n",
       "    Protein                        21.1g\n",
       "    Carbs                           6.9g\n",
       "    Fat                            55.8g\n",
       "    Calories                    614 kcal\n",
       "1   Food                       Anchovies\n",
       "    Protein                        14.5g\n",
       "    Carbs                           0.1g\n",
       "    Fat                             2.8g\n",
       "    Calories                     85 kcal\n",
       "2   Food                       Asparagus\n",
       "    Protein                         2.9g\n",
       "    Carbs                           2.0g\n",
       "    Fat                             0.6g\n",
       "    Calories                     25 kcal\n",
       "3   Food                         Avocado\n",
       "    Protein                         1.9g\n",
       "    Carbs                           1.9g\n",
       "    Fat                            19.5g\n",
       "    Calories                    195 kcal\n",
       "4   Food                           Bacon\n",
       "    Protein                        15.9g\n",
       "    Fat                            19.8g\n",
       "    Calories                    245 kcal\n",
       "5   Food                     Baked Beans\n",
       "    Protein                         9.5g\n",
       "    Carbs                          22.1g\n",
       "    Fat                             0.4g\n",
       "    Calories                    130 kcal\n",
       "6   Food                         Bananas\n",
       "                          ...           \n",
       "47  Calories                    105 kcal\n",
       "48  Food                            Tofu\n",
       "    Protein                        12.1g\n",
       "    Carbs                           0.6g\n",
       "    Fat                             6.0g\n",
       "    Calories                    105 kcal\n",
       "49  Food               Tuna Fish (Steak)\n",
       "    Protein                        25.6g\n",
       "    Carbs                             0g\n",
       "    Fat                             0.5g\n",
       "    Calories                    110 kcal\n",
       "50  Food              Tuna Fish (Tinned)\n",
       "    Protein                        26.3g\n",
       "    Carbs                           0.0g\n",
       "    Fat                            10.7g\n",
       "    Calories                    202 kcal\n",
       "51  Food        Turkey Breast (Skinless)\n",
       "    Protein                        22.3g\n",
       "    Carbs                             0g\n",
       "    Fat                             1.2g\n",
       "    Calories                    100 kcal\n",
       "52  Food             Venison (Deer meat)\n",
       "    Protein                        30.21\n",
       "    Fat                             3.19\n",
       "    Calories                    158 kcal\n",
       "53  Food                          Yogurt\n",
       "    Protein                         4.5g\n",
       "    Carbs                           6.6g\n",
       "    Fat                            11.0g\n",
       "    Calories                    145 kcal\n",
       "dtype: object"
      ]
     },
     "execution_count": 25,
     "metadata": {},
     "output_type": "execute_result"
    }
   ],
   "source": [
    "protein_df.stack()"
   ]
  },
  {
   "cell_type": "code",
   "execution_count": null,
   "metadata": {
    "collapsed": true
   },
   "outputs": [],
   "source": []
  },
  {
   "cell_type": "code",
   "execution_count": null,
   "metadata": {
    "collapsed": true
   },
   "outputs": [],
   "source": []
  }
 ],
 "metadata": {
  "kernelspec": {
   "display_name": "Python 2",
   "language": "python",
   "name": "python2"
  },
  "language_info": {
   "codemirror_mode": {
    "name": "ipython",
    "version": 2
   },
   "file_extension": ".py",
   "mimetype": "text/x-python",
   "name": "python",
   "nbconvert_exporter": "python",
   "pygments_lexer": "ipython2",
   "version": "2.7.10"
  }
 },
 "nbformat": 4,
 "nbformat_minor": 0
}
